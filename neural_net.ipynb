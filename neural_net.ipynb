{
 "cells": [
  {
   "cell_type": "code",
   "execution_count": 2,
   "metadata": {},
   "outputs": [
    {
     "name": "stdout",
     "output_type": "stream",
     "text": [
      "2.12.0\n"
     ]
    }
   ],
   "source": [
    "import numpy as np\n",
    "np.set_printoptions(precision=3, suppress=True)\n",
    "\n",
    "import pandas as pd\n",
    "\n",
    "import matplotlib.pyplot as plt\n",
    "\n",
    "import tensorflow as tf\n",
    "from tensorflow import keras\n",
    "from tensorflow.keras import layers\n",
    "\n",
    "print(tf.__version__)"
   ]
  },
  {
   "cell_type": "code",
   "execution_count": 3,
   "metadata": {},
   "outputs": [
    {
     "data": {
      "text/html": [
       "<div>\n",
       "<style scoped>\n",
       "    .dataframe tbody tr th:only-of-type {\n",
       "        vertical-align: middle;\n",
       "    }\n",
       "\n",
       "    .dataframe tbody tr th {\n",
       "        vertical-align: top;\n",
       "    }\n",
       "\n",
       "    .dataframe thead th {\n",
       "        text-align: right;\n",
       "    }\n",
       "</style>\n",
       "<table border=\"1\" class=\"dataframe\">\n",
       "  <thead>\n",
       "    <tr style=\"text-align: right;\">\n",
       "      <th></th>\n",
       "      <th>CensusTract</th>\n",
       "      <th>State</th>\n",
       "      <th>County</th>\n",
       "      <th>TotalPop</th>\n",
       "      <th>Men</th>\n",
       "      <th>Women</th>\n",
       "      <th>Hispanic</th>\n",
       "      <th>White</th>\n",
       "      <th>Black</th>\n",
       "      <th>Native</th>\n",
       "      <th>...</th>\n",
       "      <th>Walk</th>\n",
       "      <th>OtherTransp</th>\n",
       "      <th>WorkAtHome</th>\n",
       "      <th>MeanCommute</th>\n",
       "      <th>Employed</th>\n",
       "      <th>PrivateWork</th>\n",
       "      <th>PublicWork</th>\n",
       "      <th>SelfEmployed</th>\n",
       "      <th>FamilyWork</th>\n",
       "      <th>Unemployment</th>\n",
       "    </tr>\n",
       "  </thead>\n",
       "  <tbody>\n",
       "    <tr>\n",
       "      <th>0</th>\n",
       "      <td>1001020100</td>\n",
       "      <td>Alabama</td>\n",
       "      <td>Autauga</td>\n",
       "      <td>1948</td>\n",
       "      <td>940</td>\n",
       "      <td>1008</td>\n",
       "      <td>0.9</td>\n",
       "      <td>87.4</td>\n",
       "      <td>7.7</td>\n",
       "      <td>0.3</td>\n",
       "      <td>...</td>\n",
       "      <td>0.5</td>\n",
       "      <td>2.3</td>\n",
       "      <td>2.1</td>\n",
       "      <td>25.0</td>\n",
       "      <td>943</td>\n",
       "      <td>77.1</td>\n",
       "      <td>18.3</td>\n",
       "      <td>4.6</td>\n",
       "      <td>0.0</td>\n",
       "      <td>5.4</td>\n",
       "    </tr>\n",
       "    <tr>\n",
       "      <th>1</th>\n",
       "      <td>1001020200</td>\n",
       "      <td>Alabama</td>\n",
       "      <td>Autauga</td>\n",
       "      <td>2156</td>\n",
       "      <td>1059</td>\n",
       "      <td>1097</td>\n",
       "      <td>0.8</td>\n",
       "      <td>40.4</td>\n",
       "      <td>53.3</td>\n",
       "      <td>0.0</td>\n",
       "      <td>...</td>\n",
       "      <td>0.0</td>\n",
       "      <td>0.7</td>\n",
       "      <td>0.0</td>\n",
       "      <td>23.4</td>\n",
       "      <td>753</td>\n",
       "      <td>77.0</td>\n",
       "      <td>16.9</td>\n",
       "      <td>6.1</td>\n",
       "      <td>0.0</td>\n",
       "      <td>13.3</td>\n",
       "    </tr>\n",
       "    <tr>\n",
       "      <th>2</th>\n",
       "      <td>1001020300</td>\n",
       "      <td>Alabama</td>\n",
       "      <td>Autauga</td>\n",
       "      <td>2968</td>\n",
       "      <td>1364</td>\n",
       "      <td>1604</td>\n",
       "      <td>0.0</td>\n",
       "      <td>74.5</td>\n",
       "      <td>18.6</td>\n",
       "      <td>0.5</td>\n",
       "      <td>...</td>\n",
       "      <td>0.0</td>\n",
       "      <td>0.0</td>\n",
       "      <td>2.5</td>\n",
       "      <td>19.6</td>\n",
       "      <td>1373</td>\n",
       "      <td>64.1</td>\n",
       "      <td>23.6</td>\n",
       "      <td>12.3</td>\n",
       "      <td>0.0</td>\n",
       "      <td>6.2</td>\n",
       "    </tr>\n",
       "    <tr>\n",
       "      <th>3</th>\n",
       "      <td>1001020400</td>\n",
       "      <td>Alabama</td>\n",
       "      <td>Autauga</td>\n",
       "      <td>4423</td>\n",
       "      <td>2172</td>\n",
       "      <td>2251</td>\n",
       "      <td>10.5</td>\n",
       "      <td>82.8</td>\n",
       "      <td>3.7</td>\n",
       "      <td>1.6</td>\n",
       "      <td>...</td>\n",
       "      <td>0.0</td>\n",
       "      <td>2.6</td>\n",
       "      <td>1.6</td>\n",
       "      <td>25.3</td>\n",
       "      <td>1782</td>\n",
       "      <td>75.7</td>\n",
       "      <td>21.2</td>\n",
       "      <td>3.1</td>\n",
       "      <td>0.0</td>\n",
       "      <td>10.8</td>\n",
       "    </tr>\n",
       "    <tr>\n",
       "      <th>4</th>\n",
       "      <td>1001020500</td>\n",
       "      <td>Alabama</td>\n",
       "      <td>Autauga</td>\n",
       "      <td>10763</td>\n",
       "      <td>4922</td>\n",
       "      <td>5841</td>\n",
       "      <td>0.7</td>\n",
       "      <td>68.5</td>\n",
       "      <td>24.8</td>\n",
       "      <td>0.0</td>\n",
       "      <td>...</td>\n",
       "      <td>0.0</td>\n",
       "      <td>0.6</td>\n",
       "      <td>0.9</td>\n",
       "      <td>24.8</td>\n",
       "      <td>5037</td>\n",
       "      <td>67.1</td>\n",
       "      <td>27.6</td>\n",
       "      <td>5.3</td>\n",
       "      <td>0.0</td>\n",
       "      <td>4.2</td>\n",
       "    </tr>\n",
       "  </tbody>\n",
       "</table>\n",
       "<p>5 rows × 37 columns</p>\n",
       "</div>"
      ],
      "text/plain": [
       "   CensusTract    State   County  TotalPop   Men  Women  Hispanic  White   \n",
       "0   1001020100  Alabama  Autauga      1948   940   1008       0.9   87.4  \\\n",
       "1   1001020200  Alabama  Autauga      2156  1059   1097       0.8   40.4   \n",
       "2   1001020300  Alabama  Autauga      2968  1364   1604       0.0   74.5   \n",
       "3   1001020400  Alabama  Autauga      4423  2172   2251      10.5   82.8   \n",
       "4   1001020500  Alabama  Autauga     10763  4922   5841       0.7   68.5   \n",
       "\n",
       "   Black  Native  ...  Walk  OtherTransp  WorkAtHome  MeanCommute  Employed   \n",
       "0    7.7     0.3  ...   0.5          2.3         2.1         25.0       943  \\\n",
       "1   53.3     0.0  ...   0.0          0.7         0.0         23.4       753   \n",
       "2   18.6     0.5  ...   0.0          0.0         2.5         19.6      1373   \n",
       "3    3.7     1.6  ...   0.0          2.6         1.6         25.3      1782   \n",
       "4   24.8     0.0  ...   0.0          0.6         0.9         24.8      5037   \n",
       "\n",
       "   PrivateWork  PublicWork  SelfEmployed  FamilyWork  Unemployment  \n",
       "0         77.1        18.3           4.6         0.0           5.4  \n",
       "1         77.0        16.9           6.1         0.0          13.3  \n",
       "2         64.1        23.6          12.3         0.0           6.2  \n",
       "3         75.7        21.2           3.1         0.0          10.8  \n",
       "4         67.1        27.6           5.3         0.0           4.2  \n",
       "\n",
       "[5 rows x 37 columns]"
      ]
     },
     "execution_count": 3,
     "metadata": {},
     "output_type": "execute_result"
    }
   ],
   "source": [
    "df = pd.read_csv('archive/acs2015_census_tract_data.csv')\n",
    "concat = False #change as needed\n",
    "if concat:\n",
    "    df = df.rename(columns={'CensusTract':'TractId'})\n",
    "    newdf = pd.read_csv('archive/acs2017_census_tract_data.csv').rename(columns={'VotingAgeCitizen':'Citizen'})\n",
    "    df = pd.concat([newdf, df])\n",
    "df.head()"
   ]
  },
  {
   "cell_type": "code",
   "execution_count": 4,
   "metadata": {},
   "outputs": [],
   "source": [
    "def plot_loss(history):\n",
    "  plt.plot(history.history['loss'], label='loss')\n",
    "  plt.plot(history.history['val_loss'], label='val_loss')\n",
    "  # plt.ylim([0, 10])\n",
    "  plt.xlabel('Epoch')\n",
    "  plt.ylabel('Error [IncomePerCap]')\n",
    "  plt.legend()\n",
    "  plt.grid(True)"
   ]
  },
  {
   "cell_type": "code",
   "execution_count": 5,
   "metadata": {},
   "outputs": [
    {
     "data": {
      "text/html": [
       "<div>\n",
       "<style scoped>\n",
       "    .dataframe tbody tr th:only-of-type {\n",
       "        vertical-align: middle;\n",
       "    }\n",
       "\n",
       "    .dataframe tbody tr th {\n",
       "        vertical-align: top;\n",
       "    }\n",
       "\n",
       "    .dataframe thead th {\n",
       "        text-align: right;\n",
       "    }\n",
       "</style>\n",
       "<table border=\"1\" class=\"dataframe\">\n",
       "  <thead>\n",
       "    <tr style=\"text-align: right;\">\n",
       "      <th></th>\n",
       "      <th>TotalPop</th>\n",
       "      <th>Men</th>\n",
       "      <th>Women</th>\n",
       "      <th>Hispanic</th>\n",
       "      <th>White</th>\n",
       "      <th>Black</th>\n",
       "      <th>Native</th>\n",
       "      <th>Asian</th>\n",
       "      <th>Pacific</th>\n",
       "      <th>Citizen</th>\n",
       "      <th>...</th>\n",
       "      <th>Transit</th>\n",
       "      <th>Walk</th>\n",
       "      <th>OtherTransp</th>\n",
       "      <th>WorkAtHome</th>\n",
       "      <th>MeanCommute</th>\n",
       "      <th>Employed</th>\n",
       "      <th>PrivateWork</th>\n",
       "      <th>PublicWork</th>\n",
       "      <th>SelfEmployed</th>\n",
       "      <th>FamilyWork</th>\n",
       "    </tr>\n",
       "  </thead>\n",
       "  <tbody>\n",
       "    <tr>\n",
       "      <th>0</th>\n",
       "      <td>1948</td>\n",
       "      <td>940</td>\n",
       "      <td>1008</td>\n",
       "      <td>0.9</td>\n",
       "      <td>87.4</td>\n",
       "      <td>7.7</td>\n",
       "      <td>0.3</td>\n",
       "      <td>0.6</td>\n",
       "      <td>0.0</td>\n",
       "      <td>1503</td>\n",
       "      <td>...</td>\n",
       "      <td>0.0</td>\n",
       "      <td>0.5</td>\n",
       "      <td>2.3</td>\n",
       "      <td>2.1</td>\n",
       "      <td>25.0</td>\n",
       "      <td>943</td>\n",
       "      <td>77.1</td>\n",
       "      <td>18.3</td>\n",
       "      <td>4.6</td>\n",
       "      <td>0.0</td>\n",
       "    </tr>\n",
       "    <tr>\n",
       "      <th>1</th>\n",
       "      <td>2156</td>\n",
       "      <td>1059</td>\n",
       "      <td>1097</td>\n",
       "      <td>0.8</td>\n",
       "      <td>40.4</td>\n",
       "      <td>53.3</td>\n",
       "      <td>0.0</td>\n",
       "      <td>2.3</td>\n",
       "      <td>0.0</td>\n",
       "      <td>1662</td>\n",
       "      <td>...</td>\n",
       "      <td>0.0</td>\n",
       "      <td>0.0</td>\n",
       "      <td>0.7</td>\n",
       "      <td>0.0</td>\n",
       "      <td>23.4</td>\n",
       "      <td>753</td>\n",
       "      <td>77.0</td>\n",
       "      <td>16.9</td>\n",
       "      <td>6.1</td>\n",
       "      <td>0.0</td>\n",
       "    </tr>\n",
       "    <tr>\n",
       "      <th>2</th>\n",
       "      <td>2968</td>\n",
       "      <td>1364</td>\n",
       "      <td>1604</td>\n",
       "      <td>0.0</td>\n",
       "      <td>74.5</td>\n",
       "      <td>18.6</td>\n",
       "      <td>0.5</td>\n",
       "      <td>1.4</td>\n",
       "      <td>0.3</td>\n",
       "      <td>2335</td>\n",
       "      <td>...</td>\n",
       "      <td>0.0</td>\n",
       "      <td>0.0</td>\n",
       "      <td>0.0</td>\n",
       "      <td>2.5</td>\n",
       "      <td>19.6</td>\n",
       "      <td>1373</td>\n",
       "      <td>64.1</td>\n",
       "      <td>23.6</td>\n",
       "      <td>12.3</td>\n",
       "      <td>0.0</td>\n",
       "    </tr>\n",
       "    <tr>\n",
       "      <th>3</th>\n",
       "      <td>4423</td>\n",
       "      <td>2172</td>\n",
       "      <td>2251</td>\n",
       "      <td>10.5</td>\n",
       "      <td>82.8</td>\n",
       "      <td>3.7</td>\n",
       "      <td>1.6</td>\n",
       "      <td>0.0</td>\n",
       "      <td>0.0</td>\n",
       "      <td>3306</td>\n",
       "      <td>...</td>\n",
       "      <td>0.0</td>\n",
       "      <td>0.0</td>\n",
       "      <td>2.6</td>\n",
       "      <td>1.6</td>\n",
       "      <td>25.3</td>\n",
       "      <td>1782</td>\n",
       "      <td>75.7</td>\n",
       "      <td>21.2</td>\n",
       "      <td>3.1</td>\n",
       "      <td>0.0</td>\n",
       "    </tr>\n",
       "    <tr>\n",
       "      <th>4</th>\n",
       "      <td>10763</td>\n",
       "      <td>4922</td>\n",
       "      <td>5841</td>\n",
       "      <td>0.7</td>\n",
       "      <td>68.5</td>\n",
       "      <td>24.8</td>\n",
       "      <td>0.0</td>\n",
       "      <td>3.8</td>\n",
       "      <td>0.0</td>\n",
       "      <td>7666</td>\n",
       "      <td>...</td>\n",
       "      <td>0.0</td>\n",
       "      <td>0.0</td>\n",
       "      <td>0.6</td>\n",
       "      <td>0.9</td>\n",
       "      <td>24.8</td>\n",
       "      <td>5037</td>\n",
       "      <td>67.1</td>\n",
       "      <td>27.6</td>\n",
       "      <td>5.3</td>\n",
       "      <td>0.0</td>\n",
       "    </tr>\n",
       "  </tbody>\n",
       "</table>\n",
       "<p>5 rows × 28 columns</p>\n",
       "</div>"
      ],
      "text/plain": [
       "   TotalPop   Men  Women  Hispanic  White  Black  Native  Asian  Pacific   \n",
       "0      1948   940   1008       0.9   87.4    7.7     0.3    0.6      0.0  \\\n",
       "1      2156  1059   1097       0.8   40.4   53.3     0.0    2.3      0.0   \n",
       "2      2968  1364   1604       0.0   74.5   18.6     0.5    1.4      0.3   \n",
       "3      4423  2172   2251      10.5   82.8    3.7     1.6    0.0      0.0   \n",
       "4     10763  4922   5841       0.7   68.5   24.8     0.0    3.8      0.0   \n",
       "\n",
       "   Citizen  ...  Transit  Walk  OtherTransp  WorkAtHome  MeanCommute   \n",
       "0     1503  ...      0.0   0.5          2.3         2.1         25.0  \\\n",
       "1     1662  ...      0.0   0.0          0.7         0.0         23.4   \n",
       "2     2335  ...      0.0   0.0          0.0         2.5         19.6   \n",
       "3     3306  ...      0.0   0.0          2.6         1.6         25.3   \n",
       "4     7666  ...      0.0   0.0          0.6         0.9         24.8   \n",
       "\n",
       "   Employed  PrivateWork  PublicWork  SelfEmployed  FamilyWork  \n",
       "0       943         77.1        18.3           4.6         0.0  \n",
       "1       753         77.0        16.9           6.1         0.0  \n",
       "2      1373         64.1        23.6          12.3         0.0  \n",
       "3      1782         75.7        21.2           3.1         0.0  \n",
       "4      5037         67.1        27.6           5.3         0.0  \n",
       "\n",
       "[5 rows x 28 columns]"
      ]
     },
     "execution_count": 5,
     "metadata": {},
     "output_type": "execute_result"
    }
   ],
   "source": [
    "df = df.dropna()\n",
    "df = df[['TotalPop', 'Men', 'Women',\n",
    "       'Hispanic', 'White', 'Black', 'Native', 'Asian', 'Pacific', 'Citizen',\n",
    "       'IncomePerCap',\n",
    "       'Professional', 'Service', 'Office', 'Construction',\n",
    "       'Production', 'Drive', 'Carpool', 'Transit', 'Walk', 'OtherTransp',\n",
    "       'WorkAtHome', 'MeanCommute', 'Employed', 'PrivateWork', 'PublicWork',\n",
    "       'SelfEmployed', 'FamilyWork']]\n",
    "train_dataset = df.sample(frac=0.9, random_state=0)\n",
    "test_dataset = df.drop(train_dataset.index)\n",
    "\n",
    "train_features = train_dataset.copy()\n",
    "test_features = test_dataset.copy()\n",
    "\n",
    "train_labels = train_features.pop('IncomePerCap')\n",
    "test_labels = test_features.pop('IncomePerCap')\n",
    "\n",
    "df.head()"
   ]
  },
  {
   "cell_type": "code",
   "execution_count": 6,
   "metadata": {},
   "outputs": [],
   "source": [
    "normalizer = tf.keras.layers.Normalization(axis=-1)\n",
    "normalizer.adapt(np.asarray(train_features).astype('float32'))"
   ]
  },
  {
   "cell_type": "code",
   "execution_count": 7,
   "metadata": {},
   "outputs": [],
   "source": [
    "ann_model = tf.keras.Sequential([\n",
    "    normalizer,\n",
    "    tf.keras.layers.Dense(units=28, activation='relu'),\n",
    "    # tf.keras.layers.Dense(units=14, activation='relu'),\n",
    "    tf.keras.layers.Dense(units=7, activation='relu'),\n",
    "    tf.keras.layers.Dense(units=1, activation='linear')\n",
    "])"
   ]
  },
  {
   "cell_type": "code",
   "execution_count": 8,
   "metadata": {},
   "outputs": [
    {
     "name": "stdout",
     "output_type": "stream",
     "text": [
      "Epoch 1/150\n",
      "1179/1179 - 5s - loss: 81243680.0000 - val_loss: 48772696.0000 - 5s/epoch - 4ms/step\n",
      "Epoch 2/150\n",
      "1179/1179 - 3s - loss: 48452296.0000 - val_loss: 52037948.0000 - 3s/epoch - 3ms/step\n",
      "Epoch 3/150\n",
      "1179/1179 - 3s - loss: 46397564.0000 - val_loss: 44526424.0000 - 3s/epoch - 3ms/step\n",
      "Epoch 4/150\n",
      "1179/1179 - 4s - loss: 44445776.0000 - val_loss: 43796928.0000 - 4s/epoch - 3ms/step\n",
      "Epoch 5/150\n",
      "1179/1179 - 3s - loss: 43317748.0000 - val_loss: 52424120.0000 - 3s/epoch - 3ms/step\n",
      "Epoch 6/150\n",
      "1179/1179 - 3s - loss: 42431768.0000 - val_loss: 41207544.0000 - 3s/epoch - 2ms/step\n",
      "Epoch 7/150\n",
      "1179/1179 - 4s - loss: 41758604.0000 - val_loss: 41322952.0000 - 4s/epoch - 3ms/step\n",
      "Epoch 8/150\n",
      "1179/1179 - 3s - loss: 40596292.0000 - val_loss: 44070684.0000 - 3s/epoch - 3ms/step\n",
      "Epoch 9/150\n",
      "1179/1179 - 4s - loss: 40599876.0000 - val_loss: 40598680.0000 - 4s/epoch - 4ms/step\n",
      "Epoch 10/150\n",
      "1179/1179 - 3s - loss: 40000348.0000 - val_loss: 43980572.0000 - 3s/epoch - 3ms/step\n",
      "Epoch 11/150\n",
      "1179/1179 - 3s - loss: 39596428.0000 - val_loss: 38877664.0000 - 3s/epoch - 2ms/step\n",
      "Epoch 12/150\n",
      "1179/1179 - 3s - loss: 38903792.0000 - val_loss: 38014376.0000 - 3s/epoch - 3ms/step\n",
      "Epoch 13/150\n",
      "1179/1179 - 3s - loss: 38474488.0000 - val_loss: 39760052.0000 - 3s/epoch - 3ms/step\n",
      "Epoch 14/150\n",
      "1179/1179 - 4s - loss: 38504108.0000 - val_loss: 37364332.0000 - 4s/epoch - 4ms/step\n",
      "Epoch 15/150\n",
      "1179/1179 - 3s - loss: 37938512.0000 - val_loss: 37365228.0000 - 3s/epoch - 3ms/step\n",
      "Epoch 16/150\n",
      "1179/1179 - 3s - loss: 37680316.0000 - val_loss: 37777060.0000 - 3s/epoch - 3ms/step\n",
      "Epoch 17/150\n",
      "1179/1179 - 3s - loss: 37730892.0000 - val_loss: 39869068.0000 - 3s/epoch - 2ms/step\n",
      "Epoch 18/150\n",
      "1179/1179 - 4s - loss: 37245260.0000 - val_loss: 39766280.0000 - 4s/epoch - 3ms/step\n",
      "Epoch 19/150\n",
      "1179/1179 - 4s - loss: 37046988.0000 - val_loss: 40039924.0000 - 4s/epoch - 3ms/step\n",
      "Epoch 20/150\n",
      "1179/1179 - 3s - loss: 36707760.0000 - val_loss: 36432436.0000 - 3s/epoch - 3ms/step\n",
      "Epoch 21/150\n",
      "1179/1179 - 3s - loss: 36681500.0000 - val_loss: 36219508.0000 - 3s/epoch - 3ms/step\n",
      "Epoch 22/150\n",
      "1179/1179 - 3s - loss: 36432936.0000 - val_loss: 36140228.0000 - 3s/epoch - 3ms/step\n",
      "Epoch 23/150\n",
      "1179/1179 - 4s - loss: 36373460.0000 - val_loss: 37884600.0000 - 4s/epoch - 3ms/step\n",
      "Epoch 24/150\n",
      "1179/1179 - 3s - loss: 36186680.0000 - val_loss: 38323556.0000 - 3s/epoch - 3ms/step\n",
      "Epoch 25/150\n",
      "1179/1179 - 4s - loss: 35900216.0000 - val_loss: 38717124.0000 - 4s/epoch - 3ms/step\n",
      "Epoch 26/150\n",
      "1179/1179 - 3s - loss: 35674284.0000 - val_loss: 36445784.0000 - 3s/epoch - 3ms/step\n",
      "Epoch 27/150\n",
      "1179/1179 - 3s - loss: 35844060.0000 - val_loss: 37424752.0000 - 3s/epoch - 3ms/step\n",
      "Epoch 28/150\n",
      "1179/1179 - 3s - loss: 35858544.0000 - val_loss: 36248072.0000 - 3s/epoch - 3ms/step\n",
      "Epoch 29/150\n",
      "1179/1179 - 3s - loss: 35523956.0000 - val_loss: 37450336.0000 - 3s/epoch - 3ms/step\n",
      "Epoch 30/150\n",
      "1179/1179 - 3s - loss: 35342644.0000 - val_loss: 38168676.0000 - 3s/epoch - 3ms/step\n",
      "Epoch 31/150\n",
      "1179/1179 - 3s - loss: 35303000.0000 - val_loss: 36697132.0000 - 3s/epoch - 3ms/step\n",
      "Epoch 32/150\n",
      "1179/1179 - 3s - loss: 35200548.0000 - val_loss: 36204216.0000 - 3s/epoch - 3ms/step\n",
      "Epoch 33/150\n",
      "1179/1179 - 3s - loss: 35779456.0000 - val_loss: 38131132.0000 - 3s/epoch - 3ms/step\n",
      "Epoch 34/150\n",
      "1179/1179 - 4s - loss: 35514948.0000 - val_loss: 37891344.0000 - 4s/epoch - 3ms/step\n",
      "Epoch 35/150\n",
      "1179/1179 - 3s - loss: 35005772.0000 - val_loss: 36105464.0000 - 3s/epoch - 3ms/step\n",
      "Epoch 36/150\n",
      "1179/1179 - 3s - loss: 35253272.0000 - val_loss: 36141256.0000 - 3s/epoch - 3ms/step\n",
      "Epoch 37/150\n",
      "1179/1179 - 3s - loss: 34731324.0000 - val_loss: 36645028.0000 - 3s/epoch - 3ms/step\n",
      "Epoch 38/150\n",
      "1179/1179 - 3s - loss: 35372844.0000 - val_loss: 37371712.0000 - 3s/epoch - 3ms/step\n",
      "Epoch 39/150\n",
      "1179/1179 - 3s - loss: 34633956.0000 - val_loss: 35695536.0000 - 3s/epoch - 2ms/step\n",
      "Epoch 40/150\n",
      "1179/1179 - 3s - loss: 35078436.0000 - val_loss: 36754560.0000 - 3s/epoch - 3ms/step\n",
      "Epoch 41/150\n",
      "1179/1179 - 3s - loss: 34761056.0000 - val_loss: 36209812.0000 - 3s/epoch - 3ms/step\n",
      "Epoch 42/150\n",
      "1179/1179 - 3s - loss: 34471536.0000 - val_loss: 38121228.0000 - 3s/epoch - 3ms/step\n",
      "Epoch 43/150\n",
      "1179/1179 - 3s - loss: 34365284.0000 - val_loss: 37067252.0000 - 3s/epoch - 3ms/step\n",
      "Epoch 44/150\n",
      "1179/1179 - 4s - loss: 34430224.0000 - val_loss: 37852320.0000 - 4s/epoch - 3ms/step\n",
      "Epoch 45/150\n",
      "1179/1179 - 4s - loss: 34565616.0000 - val_loss: 39237328.0000 - 4s/epoch - 3ms/step\n",
      "Epoch 46/150\n",
      "1179/1179 - 3s - loss: 34754404.0000 - val_loss: 38517952.0000 - 3s/epoch - 3ms/step\n",
      "Epoch 47/150\n",
      "1179/1179 - 4s - loss: 34026908.0000 - val_loss: 37257580.0000 - 4s/epoch - 4ms/step\n",
      "Epoch 48/150\n",
      "1179/1179 - 3s - loss: 34196080.0000 - val_loss: 39255672.0000 - 3s/epoch - 2ms/step\n",
      "Epoch 49/150\n",
      "1179/1179 - 3s - loss: 33789628.0000 - val_loss: 40594252.0000 - 3s/epoch - 3ms/step\n",
      "Epoch 50/150\n",
      "1179/1179 - 3s - loss: 34098612.0000 - val_loss: 37845612.0000 - 3s/epoch - 3ms/step\n",
      "Epoch 51/150\n",
      "1179/1179 - 3s - loss: 34162032.0000 - val_loss: 36510924.0000 - 3s/epoch - 3ms/step\n",
      "Epoch 52/150\n",
      "1179/1179 - 4s - loss: 33626508.0000 - val_loss: 37848520.0000 - 4s/epoch - 3ms/step\n",
      "Epoch 53/150\n",
      "1179/1179 - 3s - loss: 34003704.0000 - val_loss: 37466872.0000 - 3s/epoch - 3ms/step\n",
      "Epoch 54/150\n",
      "1179/1179 - 3s - loss: 34224008.0000 - val_loss: 36014932.0000 - 3s/epoch - 3ms/step\n",
      "Epoch 55/150\n",
      "1179/1179 - 4s - loss: 33773932.0000 - val_loss: 41147312.0000 - 4s/epoch - 3ms/step\n",
      "Epoch 56/150\n",
      "1179/1179 - 4s - loss: 33966584.0000 - val_loss: 36442332.0000 - 4s/epoch - 3ms/step\n",
      "Epoch 57/150\n",
      "1179/1179 - 3s - loss: 33964252.0000 - val_loss: 36573664.0000 - 3s/epoch - 3ms/step\n",
      "Epoch 58/150\n",
      "1179/1179 - 3s - loss: 34246944.0000 - val_loss: 36008392.0000 - 3s/epoch - 3ms/step\n",
      "Epoch 59/150\n",
      "1179/1179 - 4s - loss: 33907676.0000 - val_loss: 39755572.0000 - 4s/epoch - 3ms/step\n",
      "Epoch 60/150\n",
      "1179/1179 - 4s - loss: 33769876.0000 - val_loss: 38224452.0000 - 4s/epoch - 4ms/step\n",
      "Epoch 61/150\n",
      "1179/1179 - 4s - loss: 33781544.0000 - val_loss: 36913204.0000 - 4s/epoch - 3ms/step\n",
      "Epoch 62/150\n",
      "1179/1179 - 4s - loss: 33706532.0000 - val_loss: 37199640.0000 - 4s/epoch - 3ms/step\n",
      "Epoch 63/150\n",
      "1179/1179 - 4s - loss: 33664512.0000 - val_loss: 35217860.0000 - 4s/epoch - 3ms/step\n",
      "Epoch 64/150\n",
      "1179/1179 - 4s - loss: 33009920.0000 - val_loss: 37319472.0000 - 4s/epoch - 3ms/step\n",
      "Epoch 65/150\n",
      "1179/1179 - 4s - loss: 33457982.0000 - val_loss: 35952772.0000 - 4s/epoch - 3ms/step\n",
      "Epoch 66/150\n",
      "1179/1179 - 3s - loss: 34112116.0000 - val_loss: 35697784.0000 - 3s/epoch - 3ms/step\n",
      "Epoch 67/150\n",
      "1179/1179 - 3s - loss: 33459908.0000 - val_loss: 40180076.0000 - 3s/epoch - 3ms/step\n",
      "Epoch 68/150\n",
      "1179/1179 - 4s - loss: 33543412.0000 - val_loss: 36044056.0000 - 4s/epoch - 3ms/step\n",
      "Epoch 69/150\n",
      "1179/1179 - 6s - loss: 32929746.0000 - val_loss: 35797212.0000 - 6s/epoch - 5ms/step\n",
      "Epoch 70/150\n",
      "1179/1179 - 6s - loss: 33332534.0000 - val_loss: 36081776.0000 - 6s/epoch - 5ms/step\n",
      "Epoch 71/150\n",
      "1179/1179 - 6s - loss: 33509530.0000 - val_loss: 36177168.0000 - 6s/epoch - 5ms/step\n",
      "Epoch 72/150\n",
      "1179/1179 - 6s - loss: 33163360.0000 - val_loss: 45957936.0000 - 6s/epoch - 5ms/step\n",
      "Epoch 73/150\n",
      "1179/1179 - 6s - loss: 33453060.0000 - val_loss: 36648872.0000 - 6s/epoch - 5ms/step\n",
      "Epoch 74/150\n",
      "1179/1179 - 6s - loss: 33389442.0000 - val_loss: 37614892.0000 - 6s/epoch - 5ms/step\n",
      "Epoch 75/150\n",
      "1179/1179 - 6s - loss: 33641428.0000 - val_loss: 39990196.0000 - 6s/epoch - 5ms/step\n",
      "Epoch 76/150\n",
      "1179/1179 - 5s - loss: 33385986.0000 - val_loss: 37687448.0000 - 5s/epoch - 4ms/step\n",
      "Epoch 77/150\n",
      "1179/1179 - 6s - loss: 33462906.0000 - val_loss: 35593352.0000 - 6s/epoch - 5ms/step\n",
      "Epoch 78/150\n",
      "1179/1179 - 5s - loss: 33201558.0000 - val_loss: 35811336.0000 - 5s/epoch - 4ms/step\n",
      "Epoch 79/150\n",
      "1179/1179 - 6s - loss: 32966810.0000 - val_loss: 38729404.0000 - 6s/epoch - 5ms/step\n",
      "Epoch 80/150\n",
      "1179/1179 - 3s - loss: 33906420.0000 - val_loss: 36476504.0000 - 3s/epoch - 3ms/step\n",
      "Epoch 81/150\n",
      "1179/1179 - 6s - loss: 33461904.0000 - val_loss: 36885856.0000 - 6s/epoch - 5ms/step\n",
      "Epoch 82/150\n",
      "1179/1179 - 5s - loss: 33922668.0000 - val_loss: 39566324.0000 - 5s/epoch - 5ms/step\n",
      "Epoch 83/150\n",
      "1179/1179 - 7s - loss: 32938152.0000 - val_loss: 42026892.0000 - 7s/epoch - 6ms/step\n",
      "Epoch 84/150\n",
      "1179/1179 - 5s - loss: 33130124.0000 - val_loss: 35213748.0000 - 5s/epoch - 4ms/step\n",
      "Epoch 85/150\n",
      "1179/1179 - 4s - loss: 33008172.0000 - val_loss: 38513492.0000 - 4s/epoch - 4ms/step\n",
      "Epoch 86/150\n",
      "1179/1179 - 6s - loss: 33118266.0000 - val_loss: 35393976.0000 - 6s/epoch - 5ms/step\n",
      "Epoch 87/150\n",
      "1179/1179 - 5s - loss: 33155484.0000 - val_loss: 34953924.0000 - 5s/epoch - 5ms/step\n",
      "Epoch 88/150\n",
      "1179/1179 - 5s - loss: 32915294.0000 - val_loss: 36566364.0000 - 5s/epoch - 5ms/step\n",
      "Epoch 89/150\n",
      "1179/1179 - 6s - loss: 32583538.0000 - val_loss: 37025956.0000 - 6s/epoch - 5ms/step\n",
      "Epoch 90/150\n",
      "1179/1179 - 4s - loss: 33306380.0000 - val_loss: 35760124.0000 - 4s/epoch - 4ms/step\n",
      "Epoch 91/150\n",
      "1179/1179 - 5s - loss: 32755480.0000 - val_loss: 35094260.0000 - 5s/epoch - 4ms/step\n",
      "Epoch 92/150\n",
      "1179/1179 - 6s - loss: 32695204.0000 - val_loss: 35296384.0000 - 6s/epoch - 5ms/step\n",
      "Epoch 93/150\n",
      "1179/1179 - 5s - loss: 32825392.0000 - val_loss: 36585776.0000 - 5s/epoch - 5ms/step\n",
      "Epoch 94/150\n",
      "1179/1179 - 5s - loss: 32994088.0000 - val_loss: 36600696.0000 - 5s/epoch - 4ms/step\n",
      "Epoch 95/150\n",
      "1179/1179 - 4s - loss: 32502518.0000 - val_loss: 35007992.0000 - 4s/epoch - 3ms/step\n",
      "Epoch 96/150\n",
      "1179/1179 - 4s - loss: 32601434.0000 - val_loss: 38734448.0000 - 4s/epoch - 3ms/step\n",
      "Epoch 97/150\n",
      "1179/1179 - 5s - loss: 32808868.0000 - val_loss: 36162140.0000 - 5s/epoch - 4ms/step\n",
      "Epoch 98/150\n",
      "1179/1179 - 6s - loss: 32962390.0000 - val_loss: 35715696.0000 - 6s/epoch - 5ms/step\n",
      "Epoch 99/150\n",
      "1179/1179 - 6s - loss: 32674752.0000 - val_loss: 37079428.0000 - 6s/epoch - 5ms/step\n",
      "Epoch 100/150\n",
      "1179/1179 - 6s - loss: 33130420.0000 - val_loss: 36618960.0000 - 6s/epoch - 5ms/step\n",
      "Epoch 101/150\n",
      "1179/1179 - 6s - loss: 32962078.0000 - val_loss: 35943756.0000 - 6s/epoch - 5ms/step\n",
      "Epoch 102/150\n",
      "1179/1179 - 6s - loss: 32899468.0000 - val_loss: 35658576.0000 - 6s/epoch - 5ms/step\n",
      "Epoch 103/150\n",
      "1179/1179 - 6s - loss: 32803864.0000 - val_loss: 35229196.0000 - 6s/epoch - 5ms/step\n",
      "Epoch 104/150\n",
      "1179/1179 - 6s - loss: 32483298.0000 - val_loss: 37089984.0000 - 6s/epoch - 5ms/step\n",
      "Epoch 105/150\n",
      "1179/1179 - 5s - loss: 32482854.0000 - val_loss: 34670436.0000 - 5s/epoch - 4ms/step\n",
      "Epoch 106/150\n",
      "1179/1179 - 6s - loss: 32825502.0000 - val_loss: 35651168.0000 - 6s/epoch - 5ms/step\n",
      "Epoch 107/150\n",
      "1179/1179 - 5s - loss: 32389638.0000 - val_loss: 35535164.0000 - 5s/epoch - 4ms/step\n",
      "Epoch 108/150\n",
      "1179/1179 - 6s - loss: 32830040.0000 - val_loss: 37272620.0000 - 6s/epoch - 5ms/step\n",
      "Epoch 109/150\n",
      "1179/1179 - 4s - loss: 32566598.0000 - val_loss: 35115216.0000 - 4s/epoch - 3ms/step\n",
      "Epoch 110/150\n",
      "1179/1179 - 3s - loss: 32365774.0000 - val_loss: 36994456.0000 - 3s/epoch - 3ms/step\n",
      "Epoch 111/150\n",
      "1179/1179 - 5s - loss: 32779034.0000 - val_loss: 34851788.0000 - 5s/epoch - 4ms/step\n",
      "Epoch 112/150\n",
      "1179/1179 - 6s - loss: 32498576.0000 - val_loss: 36014660.0000 - 6s/epoch - 5ms/step\n",
      "Epoch 113/150\n",
      "1179/1179 - 6s - loss: 32422388.0000 - val_loss: 37374556.0000 - 6s/epoch - 5ms/step\n",
      "Epoch 114/150\n",
      "1179/1179 - 5s - loss: 32572196.0000 - val_loss: 35491596.0000 - 5s/epoch - 5ms/step\n",
      "Epoch 115/150\n",
      "1179/1179 - 6s - loss: 32451900.0000 - val_loss: 38359696.0000 - 6s/epoch - 5ms/step\n",
      "Epoch 116/150\n",
      "1179/1179 - 5s - loss: 32376520.0000 - val_loss: 37709876.0000 - 5s/epoch - 4ms/step\n",
      "Epoch 117/150\n",
      "1179/1179 - 5s - loss: 32437058.0000 - val_loss: 37681432.0000 - 5s/epoch - 4ms/step\n",
      "Epoch 118/150\n",
      "1179/1179 - 5s - loss: 32625592.0000 - val_loss: 36782168.0000 - 5s/epoch - 4ms/step\n",
      "Epoch 119/150\n",
      "1179/1179 - 6s - loss: 32440912.0000 - val_loss: 40070920.0000 - 6s/epoch - 5ms/step\n",
      "Epoch 120/150\n",
      "1179/1179 - 6s - loss: 32503718.0000 - val_loss: 35201688.0000 - 6s/epoch - 5ms/step\n",
      "Epoch 121/150\n",
      "1179/1179 - 6s - loss: 32485094.0000 - val_loss: 36027184.0000 - 6s/epoch - 5ms/step\n",
      "Epoch 122/150\n",
      "1179/1179 - 5s - loss: 32217106.0000 - val_loss: 36274468.0000 - 5s/epoch - 4ms/step\n",
      "Epoch 123/150\n",
      "1179/1179 - 6s - loss: 32766732.0000 - val_loss: 40126460.0000 - 6s/epoch - 5ms/step\n",
      "Epoch 124/150\n",
      "1179/1179 - 5s - loss: 32497932.0000 - val_loss: 36787472.0000 - 5s/epoch - 4ms/step\n",
      "Epoch 125/150\n",
      "1179/1179 - 5s - loss: 32419950.0000 - val_loss: 36134808.0000 - 5s/epoch - 4ms/step\n",
      "Epoch 126/150\n",
      "1179/1179 - 5s - loss: 32348582.0000 - val_loss: 37830768.0000 - 5s/epoch - 4ms/step\n",
      "Epoch 127/150\n",
      "1179/1179 - 5s - loss: 31978240.0000 - val_loss: 36794216.0000 - 5s/epoch - 4ms/step\n",
      "Epoch 128/150\n",
      "1179/1179 - 6s - loss: 32380960.0000 - val_loss: 37144840.0000 - 6s/epoch - 5ms/step\n",
      "Epoch 129/150\n",
      "1179/1179 - 6s - loss: 32221586.0000 - val_loss: 36286796.0000 - 6s/epoch - 5ms/step\n",
      "Epoch 130/150\n",
      "1179/1179 - 6s - loss: 32122140.0000 - val_loss: 37914148.0000 - 6s/epoch - 5ms/step\n",
      "Epoch 131/150\n",
      "1179/1179 - 6s - loss: 32391438.0000 - val_loss: 36137632.0000 - 6s/epoch - 5ms/step\n",
      "Epoch 132/150\n",
      "1179/1179 - 6s - loss: 32089252.0000 - val_loss: 35807776.0000 - 6s/epoch - 5ms/step\n",
      "Epoch 133/150\n",
      "1179/1179 - 6s - loss: 32320812.0000 - val_loss: 35367784.0000 - 6s/epoch - 5ms/step\n",
      "Epoch 134/150\n",
      "1179/1179 - 6s - loss: 32312696.0000 - val_loss: 35953484.0000 - 6s/epoch - 5ms/step\n",
      "Epoch 135/150\n",
      "1179/1179 - 6s - loss: 32706264.0000 - val_loss: 36072036.0000 - 6s/epoch - 5ms/step\n",
      "Epoch 136/150\n",
      "1179/1179 - 6s - loss: 31957462.0000 - val_loss: 35887516.0000 - 6s/epoch - 5ms/step\n",
      "Epoch 137/150\n",
      "1179/1179 - 6s - loss: 32043280.0000 - val_loss: 36626124.0000 - 6s/epoch - 5ms/step\n",
      "Epoch 138/150\n",
      "1179/1179 - 6s - loss: 32291004.0000 - val_loss: 35153736.0000 - 6s/epoch - 5ms/step\n",
      "Epoch 139/150\n",
      "1179/1179 - 6s - loss: 32406242.0000 - val_loss: 36310700.0000 - 6s/epoch - 5ms/step\n",
      "Epoch 140/150\n",
      "1179/1179 - 6s - loss: 32242770.0000 - val_loss: 35796908.0000 - 6s/epoch - 5ms/step\n",
      "Epoch 141/150\n",
      "1179/1179 - 6s - loss: 32063750.0000 - val_loss: 35372924.0000 - 6s/epoch - 5ms/step\n",
      "Epoch 142/150\n",
      "1179/1179 - 5s - loss: 32050986.0000 - val_loss: 34838652.0000 - 5s/epoch - 5ms/step\n",
      "Epoch 143/150\n",
      "1179/1179 - 6s - loss: 32286098.0000 - val_loss: 35115268.0000 - 6s/epoch - 5ms/step\n",
      "Epoch 144/150\n",
      "1179/1179 - 6s - loss: 31989062.0000 - val_loss: 36328016.0000 - 6s/epoch - 5ms/step\n",
      "Epoch 145/150\n",
      "1179/1179 - 5s - loss: 32245144.0000 - val_loss: 36198916.0000 - 5s/epoch - 4ms/step\n",
      "Epoch 146/150\n",
      "1179/1179 - 6s - loss: 32380650.0000 - val_loss: 38630340.0000 - 6s/epoch - 5ms/step\n",
      "Epoch 147/150\n",
      "1179/1179 - 6s - loss: 32078010.0000 - val_loss: 35502488.0000 - 6s/epoch - 5ms/step\n",
      "Epoch 148/150\n",
      "1179/1179 - 5s - loss: 32228030.0000 - val_loss: 34926544.0000 - 5s/epoch - 4ms/step\n",
      "Epoch 149/150\n",
      "1179/1179 - 5s - loss: 32268590.0000 - val_loss: 35323516.0000 - 5s/epoch - 4ms/step\n",
      "Epoch 150/150\n",
      "1179/1179 - 4s - loss: 32023880.0000 - val_loss: 39020620.0000 - 4s/epoch - 4ms/step\n"
     ]
    },
    {
     "data": {
      "image/png": "[encoded data removed]",
      "text/plain": [
       "<Figure size 640x480 with 1 Axes>"
      ]
     },
     "metadata": {},
     "output_type": "display_data"
    }
   ],
   "source": [
    "ann_model.compile(\n",
    "    optimizer=tf.keras.optimizers.Adam(learning_rate=0.1),\n",
    "    loss='mean_squared_error'\n",
    "    )\n",
    "\n",
    "history = ann_model.fit(\n",
    "    train_features,\n",
    "    train_labels,\n",
    "    epochs=150,\n",
    "    batch_size=50,\n",
    "    validation_split=0.1,\n",
    "    verbose=2\n",
    ")\n",
    "plot_loss(history)"
   ]
  },
  {
   "attachments": {},
   "cell_type": "markdown",
   "metadata": {},
   "source": [
    "RESULTS:\n",
    "\n",
    "-----------------------------------------\n",
    "\n",
    "Using just 2015 data\n",
    "\n",
    "1 layer  : 34435316.0000 MSE\n",
    "\n",
    "2 layers : 32542424.0000 MSE (28, 14, 1)\n",
    "\n",
    "2 layers : 31465028.0000 MSE (28,  7, 1)\n",
    "\n",
    "3 layers : 33440750.0000 MSE\n",
    "\n",
    "------------------------------------------\n",
    "\n",
    "Using 2015 + 2017 data\n",
    "\n",
    "1 layer  : 49900776.0000 MSE\n",
    "\n",
    "2 layers : 36901260.0000 MSE (28, 14, 1)\n",
    "\n",
    "2 layers : 37744916.0000 MSE (28,  7, 1)\n",
    "\n",
    "3 layers : 40632372.0000 MSE\n",
    "\n",
    "-----------------------------------------"
   ]
  },
  {
   "attachments": {},
   "cell_type": "markdown",
   "metadata": {},
   "source": [
    "Now how does the best model trained on 2015 data perform on the 2017 data?"
   ]
  },
  {
   "cell_type": "code",
   "execution_count": 9,
   "metadata": {},
   "outputs": [],
   "source": [
    "newdf = pd.read_csv('archive/acs2017_census_tract_data.csv').rename(columns={'VotingAgeCitizen':'Citizen'})"
   ]
  },
  {
   "cell_type": "code",
   "execution_count": 10,
   "metadata": {},
   "outputs": [],
   "source": [
    "def mse(y, y_prime, ignore_size_mismatch=False):\n",
    "    if (len(y) != len(y_prime)) and not ignore_size_mismatch:\n",
    "        print(len(y), len(y_prime))\n",
    "        raise ValueError(\"Mismatched lengths\")\n",
    "    sum = 0\n",
    "    for i in range(min(len(y), len(y_prime))):\n",
    "        sum += (y[i] - y_prime[i])*(y[i] - y_prime[i])\n",
    "    return (sum/min(len(y), len(y_prime)))[0]"
   ]
  },
  {
   "cell_type": "code",
   "execution_count": 11,
   "metadata": {},
   "outputs": [
    {
     "name": "stdout",
     "output_type": "stream",
     "text": [
      "2283/2283 [==============================] - 8s 3ms/step\n"
     ]
    },
    {
     "data": {
      "text/plain": [
       "378935453.6764867"
      ]
     },
     "execution_count": 11,
     "metadata": {},
     "output_type": "execute_result"
    }
   ],
   "source": [
    "y_prime = ann_model.predict(newdf[['TotalPop', 'Men', 'Women',\n",
    "       'Hispanic', 'White', 'Black', 'Native', 'Asian', 'Pacific', 'Citizen',\n",
    "       'Professional', 'Service', 'Office', 'Construction',\n",
    "       'Production', 'Drive', 'Carpool', 'Transit', 'Walk', 'OtherTransp',\n",
    "       'WorkAtHome', 'MeanCommute', 'Employed', 'PrivateWork', 'PublicWork',\n",
    "       'SelfEmployed', 'FamilyWork']].dropna())\n",
    "y = newdf['IncomePerCap'].dropna().to_numpy()\n",
    "# print(\"Y:\",y,\"\\nY':\", y_prime)\n",
    "# print(y.shape, y_prime.shape)\n",
    "mse(y, y_prime, ignore_size_mismatch=True)"
   ]
  },
  {
   "attachments": {},
   "cell_type": "markdown",
   "metadata": {},
   "source": [
    "Decent! But still significantly worse than on the original dataset."
   ]
  },
  {
   "attachments": {},
   "cell_type": "markdown",
   "metadata": {},
   "source": [
    "So where is the error the highest when using the old data to predict the new? Why?"
   ]
  },
  {
   "cell_type": "code",
   "execution_count": 12,
   "metadata": {},
   "outputs": [],
   "source": [
    "from queue import PriorityQueue\n",
    "\n",
    "def get_n_highest_error(df, model, n):\n",
    "   y_prime = model.predict(df[['TotalPop', 'Men', 'Women',\n",
    "       'Hispanic', 'White', 'Black', 'Native', 'Asian', 'Pacific', 'Citizen',\n",
    "       'Professional', 'Service', 'Office', 'Construction',\n",
    "       'Production', 'Drive', 'Carpool', 'Transit', 'Walk', 'OtherTransp',\n",
    "       'WorkAtHome', 'MeanCommute', 'Employed', 'PrivateWork', 'PublicWork',\n",
    "       'SelfEmployed', 'FamilyWork']].dropna())\n",
    "   y = df['IncomePerCap'].dropna().to_numpy()\n",
    "   error_q = PriorityQueue()\n",
    "   for i in range(min(len(y), len(y_prime))):\n",
    "      error = (y[i] - y_prime[i])*(y[i] - y_prime[i])\n",
    "      error_q.put((error, i))\n",
    "   max_error_rows = []\n",
    "   for _ in range(n):\n",
    "      max_error_rows.append(df.iloc[error_q.get()[1]])\n",
    "   return pd.DataFrame(max_error_rows)\n"
   ]
  },
  {
   "cell_type": "code",
   "execution_count": 13,
   "metadata": {},
   "outputs": [
    {
     "name": "stdout",
     "output_type": "stream",
     "text": [
      "2283/2283 [==============================] - 7s 3ms/step\n"
     ]
    }
   ],
   "source": [
    "max_error_df = get_n_highest_error(df=newdf, model=ann_model, n=len(newdf)//4) #look at the top quarter most poorly predicted values\n",
    "# print(max_error_df.head(10))\n",
    "max_error_df_desc = max_error_df.describe()\n",
    "newdf_desc = newdf.describe()\n",
    "df_desc = df.describe()"
   ]
  },
  {
   "attachments": {},
   "cell_type": "markdown",
   "metadata": {},
   "source": [
    "But first, how does the 2017 data differ from the 2015 data?"
   ]
  },
  {
   "cell_type": "code",
   "execution_count": 14,
   "metadata": {},
   "outputs": [
    {
     "name": "stdout",
     "output_type": "stream",
     "text": [
      "Percent change in value from 2015 to 2017\n"
     ]
    },
    {
     "data": {
      "text/plain": [
       "Asian             -3.574975\n",
       "Black             -0.374849\n",
       "Carpool            3.414935\n",
       "ChildPoverty            NaN\n",
       "Citizen           -0.728458\n",
       "Construction       0.785187\n",
       "Drive              0.017708\n",
       "Employed          -1.677136\n",
       "FamilyWork        -0.622012\n",
       "Hispanic          -2.330014\n",
       "Income                  NaN\n",
       "IncomeErr               NaN\n",
       "IncomePerCap      -7.471870\n",
       "IncomePerCapErr         NaN\n",
       "MeanCommute       -1.426809\n",
       "Men               -0.178896\n",
       "Native            -1.533357\n",
       "Office             2.083557\n",
       "OtherTransp       -0.756946\n",
       "Pacific           -2.487061\n",
       "Poverty                 NaN\n",
       "PrivateWork       -0.617113\n",
       "Production        -0.112546\n",
       "Professional      -2.183607\n",
       "PublicWork         2.990662\n",
       "SelfEmployed       0.838041\n",
       "Service            1.061951\n",
       "TotalPop          -0.026505\n",
       "TractId                 NaN\n",
       "Transit            0.836002\n",
       "Unemployment            NaN\n",
       "Walk              -1.152718\n",
       "White              1.216423\n",
       "Women              0.120703\n",
       "WorkAtHome        -7.845344\n",
       "Name: mean, dtype: float64"
      ]
     },
     "execution_count": 14,
     "metadata": {},
     "output_type": "execute_result"
    }
   ],
   "source": [
    "df_minus_newdf = 100*(df_desc - newdf_desc)/(df_desc)\n",
    "print(\"Percent change in value from 2015 to 2017\")\n",
    "df_minus_newdf.iloc[1]"
   ]
  },
  {
   "attachments": {},
   "cell_type": "markdown",
   "metadata": {},
   "source": [
    "Answer: They don't seem to differ too much - the largest differences are income per capita and the percentage of people working at home.\n",
    "\n",
    "Now, let's see how the rows our 2015 model struggled with differ from the rest of the 2017 dataset."
   ]
  },
  {
   "cell_type": "code",
   "execution_count": 15,
   "metadata": {},
   "outputs": [
    {
     "data": {
      "text/plain": [
       "TractId            -5.126066\n",
       "TotalPop           -0.095182\n",
       "Men                -0.073815\n",
       "Women              -0.115885\n",
       "Hispanic           -8.646638\n",
       "White               1.836139\n",
       "Black               4.520187\n",
       "Native             15.701823\n",
       "Asian              -7.508631\n",
       "Pacific             3.629341\n",
       "Citizen            -0.066504\n",
       "Income             -1.933477\n",
       "IncomeErr          -2.007968\n",
       "IncomePerCap       -2.293444\n",
       "IncomePerCapErr    -2.454678\n",
       "Poverty             0.187865\n",
       "ChildPoverty        0.949416\n",
       "Professional       -2.090230\n",
       "Service            -0.348051\n",
       "Office             -0.231473\n",
       "Construction        2.306312\n",
       "Production          5.034000\n",
       "Drive               1.032715\n",
       "Carpool             1.563397\n",
       "Transit           -11.525867\n",
       "Walk               -5.468805\n",
       "OtherTransp        -2.333750\n",
       "WorkAtHome         -2.036524\n",
       "MeanCommute        -1.011118\n",
       "Employed           -0.402619\n",
       "PrivateWork         0.223898\n",
       "PublicWork         -0.736945\n",
       "SelfEmployed       -1.269197\n",
       "FamilyWork          2.951608\n",
       "Unemployment       -0.434305\n",
       "Name: mean, dtype: float64"
      ]
     },
     "execution_count": 15,
     "metadata": {},
     "output_type": "execute_result"
    }
   ],
   "source": [
    "error_minus_newdf = 100*(max_error_df_desc - newdf_desc)/(newdf_desc)\n",
    "error_minus_newdf.iloc[1]"
   ]
  },
  {
   "cell_type": "code",
   "execution_count": 16,
   "metadata": {},
   "outputs": [
    {
     "name": "stdout",
     "output_type": "stream",
     "text": [
      "              PercentageInHighErrorData\n",
      "State                                  \n",
      "Alabama                        0.729890\n",
      "Wyoming                        0.484848\n",
      "Arizona                        0.395806\n",
      "South Dakota                   0.387387\n",
      "Mississippi                    0.384036\n",
      "Arkansas                       0.374636\n",
      "Wisconsin                      0.343506\n",
      "Hawaii                         0.324786\n",
      "Rhode Island                   0.319672\n",
      "Indiana                        0.307743\n"
     ]
    }
   ],
   "source": [
    "state_df = pd.DataFrame(max_error_df.groupby('State').count()['TractId']/newdf.groupby('State').count()['TractId']).rename(columns={'TractId':'PercentageInHighErrorData'})\n",
    "print(state_df.sort_values(by='PercentageInHighErrorData',ascending=False).head(10))"
   ]
  },
  {
   "attachments": {},
   "cell_type": "markdown",
   "metadata": {},
   "source": [
    "Another way to see this..."
   ]
  },
  {
   "cell_type": "code",
   "execution_count": 17,
   "metadata": {},
   "outputs": [
    {
     "data": {
      "application/vnd.plotly.v1+json": {
       "config": {
        "plotlyServerURL": "https://plot.ly"
       },
       "data": [
        {
         "coloraxis": "coloraxis",
         "geo": "geo",
         "hovertemplate": "Abbreviation=%{location}<br>PercentageInHighErrorData=%{z}<extra></extra>",
         "locationmode": "USA-states",
         "locations": [
          "AL",
          "AK",
          "AZ",
          "AR",
          "CA",
          "CO",
          "CT",
          "DE",
          "DC",
          "FL",
          "GA",
          "HI",
          "ID",
          "IL",
          "IN",
          "IA",
          "KS",
          "KY",
          "LA",
          "ME",
          "MD",
          "MA",
          "MI",
          "MN",
          "MS",
          "MO",
          "MT",
          "NE",
          "NV",
          "NH",
          "NJ",
          "NM",
          "NY",
          "NC",
          "ND",
          "OH",
          "OK",
          "OR",
          "PA",
          "RI",
          "SC",
          "SD",
          "TN",
          "TX",
          "UT",
          "VT",
          "VA",
          "WA",
          "WV",
          "WI",
          "WY"
         ],
         "name": "",
         "type": "choropleth",
         "z": [
          0.7298899237933955,
          0.16766467065868262,
          0.39580602883355176,
          0.3746355685131195,
          0.23296512349509743,
          0.17133706965572457,
          0.15006002400960383,
          0.13302752293577982,
          0.24581005586592178,
          0.224263839811543,
          0.2493651599796851,
          0.3247863247863248,
          0.2516778523489933,
          0.2308677553634326,
          0.30774321641297153,
          0.3054545454545455,
          0.2922077922077922,
          0.29596412556053814,
          0.2883275261324042,
          0.19832402234636873,
          0.21408250355618777,
          0.20974289580514208,
          0.27479559189477426,
          0.23692077727952168,
          0.38403614457831325,
          0.26346015793251976,
          0.22509225092250923,
          0.2387218045112782,
          0.1804949053857351,
          0.15254237288135594,
          0.16567164179104477,
          0.2625250501002004,
          0.21004473363155754,
          0.2223234624145786,
          0.2146341463414634,
          0.2638888888888889,
          0.29732313575525815,
          0.2278177458033573,
          0.24549409571162212,
          0.319672131147541,
          0.3073436083408885,
          0.38738738738738737,
          0.2531730126920508,
          0.22564102564102564,
          0.1445578231292517,
          0.08152173913043478,
          0.2108023072889355,
          0.2956104252400549,
          0.2128099173553719,
          0.3435060326472676,
          0.48484848484848486
         ]
        }
       ],
       "layout": {
        "coloraxis": {
         "colorbar": {
          "title": {
           "text": "PercentageInHighErrorData"
          }
         },
         "colorscale": [
          [
           0,
           "#fde725"
          ],
          [
           0.1111111111111111,
           "#b5de2b"
          ],
          [
           0.2222222222222222,
           "#6ece58"
          ],
          [
           0.3333333333333333,
           "#35b779"
          ],
          [
           0.4444444444444444,
           "#1f9e89"
          ],
          [
           0.5555555555555556,
           "#26828e"
          ],
          [
           0.6666666666666666,
           "#31688e"
          ],
          [
           0.7777777777777778,
           "#3e4989"
          ],
          [
           0.8888888888888888,
           "#482878"
          ],
          [
           1,
           "#440154"
          ]
         ]
        },
        "geo": {
         "center": {},
         "domain": {
          "x": [
           0,
           1
          ],
          "y": [
           0,
           1
          ]
         },
         "scope": "usa"
        },
        "legend": {
         "tracegroupgap": 0
        },
        "margin": {
         "t": 60
        },
        "template": {
         "data": {
          "bar": [
           {
            "error_x": {
             "color": "#2a3f5f"
            },
            "error_y": {
             "color": "#2a3f5f"
            },
            "marker": {
             "line": {
              "color": "#E5ECF6",
              "width": 0.5
             },
             "pattern": {
              "fillmode": "overlay",
              "size": 10,
              "solidity": 0.2
             }
            },
            "type": "bar"
           }
          ],
          "barpolar": [
           {
            "marker": {
             "line": {
              "color": "#E5ECF6",
              "width": 0.5
             },
             "pattern": {
              "fillmode": "overlay",
              "size": 10,
              "solidity": 0.2
             }
            },
            "type": "barpolar"
           }
          ],
          "carpet": [
           {
            "aaxis": {
             "endlinecolor": "#2a3f5f",
             "gridcolor": "white",
             "linecolor": "white",
             "minorgridcolor": "white",
             "startlinecolor": "#2a3f5f"
            },
            "baxis": {
             "endlinecolor": "#2a3f5f",
             "gridcolor": "white",
             "linecolor": "white",
             "minorgridcolor": "white",
             "startlinecolor": "#2a3f5f"
            },
            "type": "carpet"
           }
          ],
          "choropleth": [
           {
            "colorbar": {
             "outlinewidth": 0,
             "ticks": ""
            },
            "type": "choropleth"
           }
          ],
          "contour": [
           {
            "colorbar": {
             "outlinewidth": 0,
             "ticks": ""
            },
            "colorscale": [
             [
              0,
              "#0d0887"
             ],
             [
              0.1111111111111111,
              "#46039f"
             ],
             [
              0.2222222222222222,
              "#7201a8"
             ],
             [
              0.3333333333333333,
              "#9c179e"
             ],
             [
              0.4444444444444444,
              "#bd3786"
             ],
             [
              0.5555555555555556,
              "#d8576b"
             ],
             [
              0.6666666666666666,
              "#ed7953"
             ],
             [
              0.7777777777777778,
              "#fb9f3a"
             ],
             [
              0.8888888888888888,
              "#fdca26"
             ],
             [
              1,
              "#f0f921"
             ]
            ],
            "type": "contour"
           }
          ],
          "contourcarpet": [
           {
            "colorbar": {
             "outlinewidth": 0,
             "ticks": ""
            },
            "type": "contourcarpet"
           }
          ],
          "heatmap": [
           {
            "colorbar": {
             "outlinewidth": 0,
             "ticks": ""
            },
            "colorscale": [
             [
              0,
              "#0d0887"
             ],
             [
              0.1111111111111111,
              "#46039f"
             ],
             [
              0.2222222222222222,
              "#7201a8"
             ],
             [
              0.3333333333333333,
              "#9c179e"
             ],
             [
              0.4444444444444444,
              "#bd3786"
             ],
             [
              0.5555555555555556,
              "#d8576b"
             ],
             [
              0.6666666666666666,
              "#ed7953"
             ],
             [
              0.7777777777777778,
              "#fb9f3a"
             ],
             [
              0.8888888888888888,
              "#fdca26"
             ],
             [
              1,
              "#f0f921"
             ]
            ],
            "type": "heatmap"
           }
          ],
          "heatmapgl": [
           {
            "colorbar": {
             "outlinewidth": 0,
             "ticks": ""
            },
            "colorscale": [
             [
              0,
              "#0d0887"
             ],
             [
              0.1111111111111111,
              "#46039f"
             ],
             [
              0.2222222222222222,
              "#7201a8"
             ],
             [
              0.3333333333333333,
              "#9c179e"
             ],
             [
              0.4444444444444444,
              "#bd3786"
             ],
             [
              0.5555555555555556,
              "#d8576b"
             ],
             [
              0.6666666666666666,
              "#ed7953"
             ],
             [
              0.7777777777777778,
              "#fb9f3a"
             ],
             [
              0.8888888888888888,
              "#fdca26"
             ],
             [
              1,
              "#f0f921"
             ]
            ],
            "type": "heatmapgl"
           }
          ],
          "histogram": [
           {
            "marker": {
             "pattern": {
              "fillmode": "overlay",
              "size": 10,
              "solidity": 0.2
             }
            },
            "type": "histogram"
           }
          ],
          "histogram2d": [
           {
            "colorbar": {
             "outlinewidth": 0,
             "ticks": ""
            },
            "colorscale": [
             [
              0,
              "#0d0887"
             ],
             [
              0.1111111111111111,
              "#46039f"
             ],
             [
              0.2222222222222222,
              "#7201a8"
             ],
             [
              0.3333333333333333,
              "#9c179e"
             ],
             [
              0.4444444444444444,
              "#bd3786"
             ],
             [
              0.5555555555555556,
              "#d8576b"
             ],
             [
              0.6666666666666666,
              "#ed7953"
             ],
             [
              0.7777777777777778,
              "#fb9f3a"
             ],
             [
              0.8888888888888888,
              "#fdca26"
             ],
             [
              1,
              "#f0f921"
             ]
            ],
            "type": "histogram2d"
           }
          ],
          "histogram2dcontour": [
           {
            "colorbar": {
             "outlinewidth": 0,
             "ticks": ""
            },
            "colorscale": [
             [
              0,
              "#0d0887"
             ],
             [
              0.1111111111111111,
              "#46039f"
             ],
             [
              0.2222222222222222,
              "#7201a8"
             ],
             [
              0.3333333333333333,
              "#9c179e"
             ],
             [
              0.4444444444444444,
              "#bd3786"
             ],
             [
              0.5555555555555556,
              "#d8576b"
             ],
             [
              0.6666666666666666,
              "#ed7953"
             ],
             [
              0.7777777777777778,
              "#fb9f3a"
             ],
             [
              0.8888888888888888,
              "#fdca26"
             ],
             [
              1,
              "#f0f921"
             ]
            ],
            "type": "histogram2dcontour"
           }
          ],
          "mesh3d": [
           {
            "colorbar": {
             "outlinewidth": 0,
             "ticks": ""
            },
            "type": "mesh3d"
           }
          ],
          "parcoords": [
           {
            "line": {
             "colorbar": {
              "outlinewidth": 0,
              "ticks": ""
             }
            },
            "type": "parcoords"
           }
          ],
          "pie": [
           {
            "automargin": true,
            "type": "pie"
           }
          ],
          "scatter": [
           {
            "fillpattern": {
             "fillmode": "overlay",
             "size": 10,
             "solidity": 0.2
            },
            "type": "scatter"
           }
          ],
          "scatter3d": [
           {
            "line": {
             "colorbar": {
              "outlinewidth": 0,
              "ticks": ""
             }
            },
            "marker": {
             "colorbar": {
              "outlinewidth": 0,
              "ticks": ""
             }
            },
            "type": "scatter3d"
           }
          ],
          "scattercarpet": [
           {
            "marker": {
             "colorbar": {
              "outlinewidth": 0,
              "ticks": ""
             }
            },
            "type": "scattercarpet"
           }
          ],
          "scattergeo": [
           {
            "marker": {
             "colorbar": {
              "outlinewidth": 0,
              "ticks": ""
             }
            },
            "type": "scattergeo"
           }
          ],
          "scattergl": [
           {
            "marker": {
             "colorbar": {
              "outlinewidth": 0,
              "ticks": ""
             }
            },
            "type": "scattergl"
           }
          ],
          "scattermapbox": [
           {
            "marker": {
             "colorbar": {
              "outlinewidth": 0,
              "ticks": ""
             }
            },
            "type": "scattermapbox"
           }
          ],
          "scatterpolar": [
           {
            "marker": {
             "colorbar": {
              "outlinewidth": 0,
              "ticks": ""
             }
            },
            "type": "scatterpolar"
           }
          ],
          "scatterpolargl": [
           {
            "marker": {
             "colorbar": {
              "outlinewidth": 0,
              "ticks": ""
             }
            },
            "type": "scatterpolargl"
           }
          ],
          "scatterternary": [
           {
            "marker": {
             "colorbar": {
              "outlinewidth": 0,
              "ticks": ""
             }
            },
            "type": "scatterternary"
           }
          ],
          "surface": [
           {
            "colorbar": {
             "outlinewidth": 0,
             "ticks": ""
            },
            "colorscale": [
             [
              0,
              "#0d0887"
             ],
             [
              0.1111111111111111,
              "#46039f"
             ],
             [
              0.2222222222222222,
              "#7201a8"
             ],
             [
              0.3333333333333333,
              "#9c179e"
             ],
             [
              0.4444444444444444,
              "#bd3786"
             ],
             [
              0.5555555555555556,
              "#d8576b"
             ],
             [
              0.6666666666666666,
              "#ed7953"
             ],
             [
              0.7777777777777778,
              "#fb9f3a"
             ],
             [
              0.8888888888888888,
              "#fdca26"
             ],
             [
              1,
              "#f0f921"
             ]
            ],
            "type": "surface"
           }
          ],
          "table": [
           {
            "cells": {
             "fill": {
              "color": "#EBF0F8"
             },
             "line": {
              "color": "white"
             }
            },
            "header": {
             "fill": {
              "color": "#C8D4E3"
             },
             "line": {
              "color": "white"
             }
            },
            "type": "table"
           }
          ]
         },
         "layout": {
          "annotationdefaults": {
           "arrowcolor": "#2a3f5f",
           "arrowhead": 0,
           "arrowwidth": 1
          },
          "autotypenumbers": "strict",
          "coloraxis": {
           "colorbar": {
            "outlinewidth": 0,
            "ticks": ""
           }
          },
          "colorscale": {
           "diverging": [
            [
             0,
             "#8e0152"
            ],
            [
             0.1,
             "#c51b7d"
            ],
            [
             0.2,
             "#de77ae"
            ],
            [
             0.3,
             "#f1b6da"
            ],
            [
             0.4,
             "#fde0ef"
            ],
            [
             0.5,
             "#f7f7f7"
            ],
            [
             0.6,
             "#e6f5d0"
            ],
            [
             0.7,
             "#b8e186"
            ],
            [
             0.8,
             "#7fbc41"
            ],
            [
             0.9,
             "#4d9221"
            ],
            [
             1,
             "#276419"
            ]
           ],
           "sequential": [
            [
             0,
             "#0d0887"
            ],
            [
             0.1111111111111111,
             "#46039f"
            ],
            [
             0.2222222222222222,
             "#7201a8"
            ],
            [
             0.3333333333333333,
             "#9c179e"
            ],
            [
             0.4444444444444444,
             "#bd3786"
            ],
            [
             0.5555555555555556,
             "#d8576b"
            ],
            [
             0.6666666666666666,
             "#ed7953"
            ],
            [
             0.7777777777777778,
             "#fb9f3a"
            ],
            [
             0.8888888888888888,
             "#fdca26"
            ],
            [
             1,
             "#f0f921"
            ]
           ],
           "sequentialminus": [
            [
             0,
             "#0d0887"
            ],
            [
             0.1111111111111111,
             "#46039f"
            ],
            [
             0.2222222222222222,
             "#7201a8"
            ],
            [
             0.3333333333333333,
             "#9c179e"
            ],
            [
             0.4444444444444444,
             "#bd3786"
            ],
            [
             0.5555555555555556,
             "#d8576b"
            ],
            [
             0.6666666666666666,
             "#ed7953"
            ],
            [
             0.7777777777777778,
             "#fb9f3a"
            ],
            [
             0.8888888888888888,
             "#fdca26"
            ],
            [
             1,
             "#f0f921"
            ]
           ]
          },
          "colorway": [
           "#636efa",
           "#EF553B",
           "#00cc96",
           "#ab63fa",
           "#FFA15A",
           "#19d3f3",
           "#FF6692",
           "#B6E880",
           "#FF97FF",
           "#FECB52"
          ],
          "font": {
           "color": "#2a3f5f"
          },
          "geo": {
           "bgcolor": "white",
           "lakecolor": "white",
           "landcolor": "#E5ECF6",
           "showlakes": true,
           "showland": true,
           "subunitcolor": "white"
          },
          "hoverlabel": {
           "align": "left"
          },
          "hovermode": "closest",
          "mapbox": {
           "style": "light"
          },
          "paper_bgcolor": "white",
          "plot_bgcolor": "#E5ECF6",
          "polar": {
           "angularaxis": {
            "gridcolor": "white",
            "linecolor": "white",
            "ticks": ""
           },
           "bgcolor": "#E5ECF6",
           "radialaxis": {
            "gridcolor": "white",
            "linecolor": "white",
            "ticks": ""
           }
          },
          "scene": {
           "xaxis": {
            "backgroundcolor": "#E5ECF6",
            "gridcolor": "white",
            "gridwidth": 2,
            "linecolor": "white",
            "showbackground": true,
            "ticks": "",
            "zerolinecolor": "white"
           },
           "yaxis": {
            "backgroundcolor": "#E5ECF6",
            "gridcolor": "white",
            "gridwidth": 2,
            "linecolor": "white",
            "showbackground": true,
            "ticks": "",
            "zerolinecolor": "white"
           },
           "zaxis": {
            "backgroundcolor": "#E5ECF6",
            "gridcolor": "white",
            "gridwidth": 2,
            "linecolor": "white",
            "showbackground": true,
            "ticks": "",
            "zerolinecolor": "white"
           }
          },
          "shapedefaults": {
           "line": {
            "color": "#2a3f5f"
           }
          },
          "ternary": {
           "aaxis": {
            "gridcolor": "white",
            "linecolor": "white",
            "ticks": ""
           },
           "baxis": {
            "gridcolor": "white",
            "linecolor": "white",
            "ticks": ""
           },
           "bgcolor": "#E5ECF6",
           "caxis": {
            "gridcolor": "white",
            "linecolor": "white",
            "ticks": ""
           }
          },
          "title": {
           "x": 0.05
          },
          "xaxis": {
           "automargin": true,
           "gridcolor": "white",
           "linecolor": "white",
           "ticks": "",
           "title": {
            "standoff": 15
           },
           "zerolinecolor": "white",
           "zerolinewidth": 2
          },
          "yaxis": {
           "automargin": true,
           "gridcolor": "white",
           "linecolor": "white",
           "ticks": "",
           "title": {
            "standoff": 15
           },
           "zerolinecolor": "white",
           "zerolinewidth": 2
          }
         }
        }
       }
      }
     },
     "metadata": {},
     "output_type": "display_data"
    }
   ],
   "source": [
    "import plotly.express as px\n",
    "statenames_to_codes = pd.read_csv('archive/statenamestocodes.csv')\n",
    "tmp = pd.merge(state_df, statenames_to_codes, on=\"State\")\n",
    "fig = px.choropleth(tmp,\n",
    "                    locations='Abbreviation', \n",
    "                    locationmode=\"USA-states\", \n",
    "                    color='PercentageInHighErrorData',\n",
    "                    color_continuous_scale=\"Viridis_r\", \n",
    "                    scope=\"usa\")\n",
    "fig.show()"
   ]
  },
  {
   "attachments": {},
   "cell_type": "markdown",
   "metadata": {},
   "source": [
    "What on earth is up with Alabama?"
   ]
  },
  {
   "cell_type": "code",
   "execution_count": 18,
   "metadata": {},
   "outputs": [
    {
     "name": "stdout",
     "output_type": "stream",
     "text": [
      "Asian               2.226540\n",
      "Black               1.134586\n",
      "Carpool            -6.568011\n",
      "CensusTract              NaN\n",
      "ChildPoverty       -4.310358\n",
      "Citizen             0.853909\n",
      "Construction       -1.025833\n",
      "Drive               0.611688\n",
      "Employed            1.640884\n",
      "FamilyWork          1.654646\n",
      "Hispanic            2.540855\n",
      "Income              6.101793\n",
      "IncomeErr           7.908944\n",
      "IncomePerCap        6.847178\n",
      "IncomePerCapErr    10.717739\n",
      "MeanCommute         1.013335\n",
      "Men                 0.414892\n",
      "Native             -0.262664\n",
      "Office             -1.555397\n",
      "OtherTransp         0.812540\n",
      "Pacific           -16.336634\n",
      "Poverty            -4.123328\n",
      "PrivateWork         1.132186\n",
      "Production          0.808438\n",
      "Professional        1.618858\n",
      "PublicWork         -4.967478\n",
      "SelfEmployed       -1.577517\n",
      "Service            -0.863786\n",
      "TotalPop            0.417151\n",
      "TractId                  NaN\n",
      "Transit            -5.599436\n",
      "Unemployment      -19.043713\n",
      "Walk               -0.930205\n",
      "White              -0.931712\n",
      "Women               0.419276\n",
      "WorkAtHome          6.166271\n",
      "Name: mean, dtype: float64\n"
     ]
    }
   ],
   "source": [
    "df = pd.read_csv('archive/acs2015_census_tract_data.csv')\n",
    "newdf = pd.read_csv('archive/acs2017_census_tract_data.csv').rename(columns={'VotingAgeCitizen':'Citizen'})\n",
    "\n",
    "alabama_2015 = df[df['State']=='Alabama']\n",
    "alabama_2017 = newdf[newdf['State']=='Alabama']\n",
    "\n",
    "print((100*(alabama_2017.describe()-alabama_2015.describe())/alabama_2015.describe()).iloc[1,:])"
   ]
  },
  {
   "attachments": {},
   "cell_type": "markdown",
   "metadata": {},
   "source": [
    "Hard to say from this data: It might just be a matter of shifting income and poverty with otherwise consistent demographics.\n",
    "\n",
    "Let's try the second-most problematic state, Wyoming."
   ]
  },
  {
   "cell_type": "code",
   "execution_count": 19,
   "metadata": {},
   "outputs": [
    {
     "name": "stdout",
     "output_type": "stream",
     "text": [
      "Asian              -2.815700\n",
      "Black              -5.604076\n",
      "Carpool            -8.387405\n",
      "CensusTract              NaN\n",
      "ChildPoverty      -15.231241\n",
      "Citizen             0.648333\n",
      "Construction       -4.343320\n",
      "Drive               1.429288\n",
      "Employed           -0.107502\n",
      "FamilyWork          6.896552\n",
      "Hispanic            0.102580\n",
      "Income              3.403878\n",
      "IncomeErr           7.596455\n",
      "IncomePerCap        4.949291\n",
      "IncomePerCapErr    10.537099\n",
      "MeanCommute        -1.801132\n",
      "Men                 0.927051\n",
      "Native              6.562500\n",
      "Office             -3.024348\n",
      "OtherTransp        -8.749122\n",
      "Pacific            -2.127660\n",
      "Poverty            -4.730023\n",
      "PrivateWork         0.325680\n",
      "Production          1.646065\n",
      "Professional        2.757133\n",
      "PublicWork         -1.237263\n",
      "SelfEmployed        0.263429\n",
      "Service             1.334764\n",
      "TotalPop            0.607405\n",
      "TractId                  NaN\n",
      "Transit           -15.675116\n",
      "Unemployment       -5.016229\n",
      "Walk                2.665951\n",
      "White               0.017214\n",
      "Women               0.274886\n",
      "WorkAtHome          3.320095\n",
      "Name: mean, dtype: float64\n"
     ]
    }
   ],
   "source": [
    "wyoming_2015 = df[df['State']=='Wyoming']\n",
    "wyoming_2017 = newdf[newdf['State']=='Wyoming']\n",
    "\n",
    "print((100*(wyoming_2017.describe()-wyoming_2015.describe())/wyoming_2015.describe()).iloc[1,:])"
   ]
  },
  {
   "attachments": {},
   "cell_type": "markdown",
   "metadata": {},
   "source": [
    "There doesn't appear to be much similarity here, but Wyoming is a very underpopulated state so it would make sense that the model might struggle because it might be more quirky in its demographics and easily swayed."
   ]
  },
  {
   "attachments": {},
   "cell_type": "markdown",
   "metadata": {},
   "source": [
    "In sum, a neural net performs very well with this dataset. Simpler seems to be better - both because of data and because of the relationships between features and the label. \n",
    "\n",
    "There is something odd however about Alabama across the time between 2015 and 2017, and it would be interesting to continue exploring that."
   ]
  }
 ],
 "metadata": {
  "kernelspec": {
   "display_name": "Python 3",
   "language": "python",
   "name": "python3"
  },
  "language_info": {
   "codemirror_mode": {
    "name": "ipython",
    "version": 3
   },
   "file_extension": ".py",
   "mimetype": "text/x-python",
   "name": "python",
   "nbconvert_exporter": "python",
   "pygments_lexer": "ipython3",
   "version": "3.11.2"
  },
  "orig_nbformat": 4
 },
 "nbformat": 4,
 "nbformat_minor": 2
}
