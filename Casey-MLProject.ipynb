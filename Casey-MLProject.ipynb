{
 "cells": [
  {
   "cell_type": "code",
   "execution_count": 1,
   "id": "2da741d1-adfb-48e2-88e3-0ae719281ae9",
   "metadata": {},
   "outputs": [
    {
     "data": {
      "text/plain": [
       "Index(['CountyId', 'State', 'County', 'TotalPop', 'Men', 'Women', 'Hispanic',\n",
       "       'White', 'Black', 'Native', 'Asian', 'Pacific', 'VotingAgeCitizen',\n",
       "       'Income', 'IncomeErr', 'IncomePerCap', 'IncomePerCapErr', 'Poverty',\n",
       "       'ChildPoverty', 'Professional', 'Service', 'Office', 'Construction',\n",
       "       'Production', 'Drive', 'Carpool', 'Transit', 'Walk', 'OtherTransp',\n",
       "       'WorkAtHome', 'MeanCommute', 'Employed', 'PrivateWork', 'PublicWork',\n",
       "       'SelfEmployed', 'FamilyWork', 'Unemployment'],\n",
       "      dtype='object')"
      ]
     },
     "execution_count": 1,
     "metadata": {},
     "output_type": "execute_result"
    }
   ],
   "source": [
    "import pandas as pd\n",
    "import numpy as np\n",
    "import seaborn as sns\n",
    "import matplotlib.pyplot as plt\n",
    "import plotly.express as px\n",
    "import math\n",
    "sns.set_theme()\n",
    "og_df = pd.read_csv('archive/acs2017_county_data.csv')\n",
    "# df.describe()\n",
    "\n",
    "# plt.hist(og_df['Income'], bins=100)\n",
    "\n",
    "ystr = \"Count\"\n",
    "xstr = \"Income\"\n",
    "\n",
    "wfh_v_private = px.histogram(og_df, x=xstr, title=\"Income\").update_layout(yaxis_title=ystr, xaxis_title=xstr)\n",
    "# wfh_v_private\n",
    "og_df.columns\n"
   ]
  },
  {
   "cell_type": "code",
   "execution_count": 2,
   "id": "d40f85e9-dde8-4e4a-8f0c-8b72296459b4",
   "metadata": {},
   "outputs": [],
   "source": [
    "\n",
    "#Casey\n",
    "def pruning_and_binning (og_df, labelBins, labels, labelCol):\n",
    "    \n",
    "    \n",
    "    df_pruned = og_df\n",
    "    df_pruned = df_pruned.drop('CountyId', axis=1)\n",
    "    df_pruned = df_pruned.drop('County', axis=1) \n",
    "    \n",
    "    df_pruned['MenPercent'] = round(df_pruned['Men'] / df_pruned['TotalPop'], 2)\n",
    "    # df_pruned['WomenPercent'] = round(df_pruned['Women'] / df_pruned['TotalPop'], 2)\n",
    "    df_pruned = df_pruned.drop('Men', axis=1)\n",
    "    df_pruned = df_pruned.drop('Women', axis=1)\n",
    "    \n",
    "    df_pruned = df_pruned.drop('Pacific', axis=1)\n",
    "\n",
    "    if(labelCol == 'Income'):\n",
    "        df_pruned = df_pruned.drop('IncomePerCap', axis=1)\n",
    "        df_pruned = df_pruned.drop('IncomePerCapErr', axis=1)\n",
    "        df_pruned = df_pruned.drop('IncomeErr', axis=1)\n",
    "    elif(labelCol == 'IncomePerCap'):\n",
    "        df_pruned = df_pruned.drop('Income', axis=1)\n",
    "        df_pruned = df_pruned.drop('IncomePerCapErr', axis=1)\n",
    "        df_pruned = df_pruned.drop('IncomeErr', axis=1)\n",
    "    \n",
    "    \n",
    "    # df_additions.head()\n",
    "    # df_additions.columns\n",
    "\n",
    "    # Bin Everything\n",
    "    df_binned = df_pruned\n",
    "\n",
    "    # For Specific sized bins\n",
    "    df_binned[labelCol] = pd.cut(x = df_pruned[labelCol], bins = labelBins, labels = labels, include_lowest = True)\n",
    "\n",
    "    for i in range(len(df_binned.columns)-1):\n",
    "        colName = df_binned.columns[i+1]\n",
    "        if(colName != labelCol):\n",
    "            feature_labels = ['Low', 'Mid', 'High']\n",
    "            df_binned[colName], cut_bin = pd.qcut(x = df_pruned[colName], q = 3, labels = feature_labels, retbins = True)\n",
    "        # print(colName)\n",
    "        # print(labels)\n",
    "        # print(cut_bin)\n",
    "    \n",
    "    print(\"Pruned & Binned\\n\")\n",
    "    return df_binned\n",
    "    \n",
    "# df_binned.head()"
   ]
  },
  {
   "cell_type": "code",
   "execution_count": 3,
   "id": "d4e14b0f-7599-435f-927a-cb41574fc3ee",
   "metadata": {},
   "outputs": [],
   "source": [
    "# Splitting into a sample & test set\n",
    "#Casey\n",
    "def get_trainingSet_and_testSet(df_binned, fraction):\n",
    "    # Gets a fraction as a training set\n",
    "    df_training = df_binned.sample(frac=fraction, replace=False, axis=0)\n",
    "    # Takes the rest and returns it as a test set\n",
    "    df_testSet = df_binned[~df_binned.isin(df_training)].dropna(how = 'all')\n",
    "    # Shuffle Test Set\n",
    "    df_testSet = df_testSet.sample(frac=1, replace=False, axis=0)\n",
    "    print(\"Split & Shuffled\\n\")\n",
    "    return df_training, df_testSet\n",
    "    "
   ]
  },
  {
   "cell_type": "code",
   "execution_count": 4,
   "id": "837ae1f1-f6fd-4c21-926f-82026750e614",
   "metadata": {},
   "outputs": [],
   "source": [
    "# Building a Baysian model\n",
    "#Casey\n",
    "def build_naive_bayes_model(df_train, labelCol):\n",
    "    labelCounts = pd.Series(df_train[labelCol].value_counts())\n",
    "    labelMarginals = labelCounts / len(df_train)\n",
    "    labelConditionals = []\n",
    "\n",
    "    for i in range(len(labelCounts)):\n",
    "        labelConditionals.append([])\n",
    "        curLabel = df_train[labelCol].value_counts().index[i]\n",
    "        df_conditional = df_train[df_train[labelCol] == curLabel]\n",
    "\n",
    "        for j in range(len(df_conditional.columns)):\n",
    "            colOfInterest = [df_conditional.columns[j]]\n",
    "\n",
    "            df1 = df_conditional[colOfInterest].value_counts()\n",
    "            df1 = df1.astype(float)\n",
    "            df1 = (df1 + 1) / (labelCounts[i]+1)\n",
    "\n",
    "    #       Check for values not in the sample and set them to 1/labelCounts\n",
    "            for k in range(len(df_train[colOfInterest].value_counts())):\n",
    "                indexVal = df_train[colOfInterest].value_counts().index[k]\n",
    "                if(indexVal not in df1.index):\n",
    "                    newDF = pd.Series([1/(labelCounts[i]+1)], [indexVal])\n",
    "                    df1 = pd.concat([df1, newDF])\n",
    "            labelConditionals[i].append(df1)\n",
    "\n",
    "    # print(labelConditionals)\n",
    "    print(\"Model Built\\n\")\n",
    "    \n",
    "    return labelMarginals, labelConditionals"
   ]
  },
  {
   "cell_type": "code",
   "execution_count": 5,
   "id": "b096749e-a6cf-4a0a-8765-1ba5c0e81273",
   "metadata": {},
   "outputs": [],
   "source": [
    "#Casey\n",
    "def eval_with_bayes_model(df_testSet, labelMarginals, labelConditionals, label, labels):\n",
    "    print(\"Running Inference Task\\n\")\n",
    "\n",
    "    totalOutput = pd.Series([0]*len(labels), labels)\n",
    "    correctOutput = pd.Series([0]*len(labels), labels)\n",
    "    numCorrect = 0\n",
    "\n",
    "    for k in range(len(df_testSet)):\n",
    "        df_row = df_testSet.iloc[k]\n",
    "\n",
    "        labelProbabilities = labelMarginals.copy()\n",
    "\n",
    "        for i in range(len(labelProbabilities)):\n",
    "            for j in range(len(df_row)):\n",
    "                if(df_row.index[j] != label):\n",
    "                    x = labelConditionals[i][j]\n",
    "                    # print(x.loc[df_row[j]][0])\n",
    "                    # print(df_row[j])\n",
    "                    if df_row[j] in x:\n",
    "                        labelProbabilities[i] *= x.loc[df_row[j]][0]\n",
    "\n",
    "\n",
    "\n",
    "        totalOutput.loc[labelProbabilities.idxmax()] += 1\n",
    "        if(labelProbabilities.idxmax() == df_row.loc[label]):\n",
    "            numCorrect += 1\n",
    "            correctOutput.loc[labelProbabilities.idxmax()] += 1\n",
    "\n",
    "        if(False):\n",
    "            print(\"Inference\")\n",
    "            print(\"Prediction: \")\n",
    "            print(\"Actual: \")\n",
    "            print(df_row[label])\n",
    "            print(labelProbabilities.idxmax())\n",
    "\n",
    "    return totalOutput, correctOutput"
   ]
  },
  {
   "cell_type": "code",
   "execution_count": 6,
   "id": "698abaf1-6d11-49e8-b0e9-96c77b681dd5",
   "metadata": {},
   "outputs": [],
   "source": [
    "#Casey\n",
    "def printResults(df_testSet, totalOutput, correctOutput, labelCol):\n",
    "    print(\"Distribution of TestSet Data:\")\n",
    "    print(df_testSet[labelCol].value_counts())\n",
    "    print()\n",
    "    print(\"Total Output Distribution: \")\n",
    "    print(totalOutput)\n",
    "    print()\n",
    "    print(\"CorrectOutput Distribution: \")\n",
    "    print(correctOutput)\n",
    "    print()\n",
    "    print(\"NumCorrect: \" + str(correctOutput.sum()))\n",
    "    print(\"Accuracy: \"  + str(correctOutput.sum() / len(df_testSet)))\n",
    "    # pres = numCorrect / len(df_testSet)\n",
    "    # print(\"Precision: \"  + str(pres)\n",
    "    # rec = \n",
    "    # print(\"Recall: \"  + str(rec)"
   ]
  },
  {
   "cell_type": "code",
   "execution_count": 20,
   "id": "c4e6233b-a3d6-4a45-852e-74f3c71675a0",
   "metadata": {},
   "outputs": [],
   "source": [
    "#Casey\n",
    "def runNaiveBayes(labelCol, bins, labels):\n",
    "\n",
    "    og_df = pd.read_csv('archive/acs2017_county_data.csv')\n",
    "\n",
    "    df_binned = pruning_and_binning(og_df, bins, labels, labelCol)\n",
    "\n",
    "    df_train, df_test = get_trainingSet_and_testSet(df_binned, 0.8)\n",
    "\n",
    "    label_marg, label_cond = build_naive_bayes_model(df_train, labelCol)\n",
    "\n",
    "    totalOutput, correctOutput = eval_with_bayes_model(df_test, label_marg, label_cond, labelCol, labels)\n",
    "\n",
    "    print(\"Results:\")\n",
    "    print(\"\\nLabel: \" + str(labelCol))\n",
    "    print(\"Bins: \" + str(bins))\n",
    "    print(\"Labels: \" + str(labels) + \"\\n\")\n",
    "    # print(\"\\nLabel distribution: \")\n",
    "    # print(label_marg)\n",
    "\n",
    "    printResults(df_test, totalOutput, correctOutput, labelCol)\n",
    "    return df_test, totalOutput, correctOutput, labelCol"
   ]
  },
  {
   "cell_type": "code",
   "execution_count": 51,
   "id": "496d51c7-1a01-4536-862f-fa73328a83e6",
   "metadata": {},
   "outputs": [],
   "source": [
    "# Found from kaggle and adjusted to display my information\n",
    "def plotBayes(df_test, correctOutput, labelCol):\n",
    "    plt.rcParams[\"figure.figsize\"] = [7.00, 3.50]\n",
    "    plt.rcParams[\"figure.autolayout\"] = True\n",
    "\n",
    "    labels = df_test[labelCol].value_counts().index.tolist()\n",
    "    test_set_numbers = df_test[labelCol].value_counts().tolist()\n",
    "    output_numbers = correctOutput.sort_index()\n",
    "\n",
    "    x = np.arange(len(labels))\n",
    "    width = 0.35\n",
    "\n",
    "    fig, ax = plt.subplots()\n",
    "    rects1 = ax.bar(x - width / 2, test_set_numbers, width, label='Actual')\n",
    "    rects2 = ax.bar(x + width / 2, output_numbers, width, label='Predicted')\n",
    "\n",
    "    ax.set_ylabel('Count')\n",
    "    ax.set_title('Number of ' + labelCol + ' bins correctly predicted')\n",
    "    ax.set_xticks(x)\n",
    "    ax.set_xticklabels(labels)\n",
    "    ax.legend()\n",
    "\n",
    "    def autolabel(rects):\n",
    "       for rect in rects:\n",
    "          height = rect.get_height()\n",
    "          ax.annotate('{}'.format(height),\n",
    "             xy=(rect.get_x() + rect.get_width() / 2, height),\n",
    "             xytext=(0, 3), # 3 points vertical offset\n",
    "             textcoords=\"offset points\",\n",
    "             ha='center', va='bottom')\n",
    "\n",
    "    autolabel(rects1)\n",
    "    autolabel(rects2)\n",
    "\n",
    "    print(plt.show())"
   ]
  },
  {
   "cell_type": "code",
   "execution_count": 61,
   "id": "1d3f9056-997f-4e87-b978-72d9d801d074",
   "metadata": {},
   "outputs": [],
   "source": [
    "def predictWithBayes(df_row, labelMarginals, labelConditionals, label):\n",
    "    labelProbabilities = labelMarginals.copy()\n",
    "\n",
    "    for i in range(len(labelProbabilities)):\n",
    "        for j in range(len(df_row)):\n",
    "            if(df_row.index[j] != label):\n",
    "                x = labelConditionals[i][j]\n",
    "                # print(x.loc[df_row[j]][0])\n",
    "                # print(df_row[j])\n",
    "                if df_row[j] in x:\n",
    "                    labelProbabilities[i] *= x.loc[df_row[j]][0]\n",
    "    return labelProbabilities.idxmax()"
   ]
  },
  {
   "cell_type": "code",
   "execution_count": 52,
   "id": "813019f1-a172-4d05-b79e-4d52e9dd9887",
   "metadata": {},
   "outputs": [
    {
     "name": "stdout",
     "output_type": "stream",
     "text": [
      "Pruned & Binned\n",
      "\n",
      "Split & Shuffled\n",
      "\n",
      "Model Built\n",
      "\n",
      "Running Inference Task\n",
      "\n",
      "Results:\n",
      "\n",
      "Label: IncomePerCap\n",
      "Bins: [0, 25000, inf]\n",
      "Labels: ['Low', 'High']\n",
      "\n",
      "Distribution of TestSet Data:\n",
      "High    330\n",
      "Low     314\n",
      "Name: IncomePerCap, dtype: int64\n",
      "\n",
      "Total Output Distribution: \n",
      "Low     305\n",
      "High    339\n",
      "dtype: int64\n",
      "\n",
      "CorrectOutput Distribution: \n",
      "Low     267\n",
      "High    292\n",
      "dtype: int64\n",
      "\n",
      "NumCorrect: 559\n",
      "Accuracy: 0.8680124223602484\n"
     ]
    },
    {
     "data": {
      "image/png": "[encoded data removed]",
      "text/plain": [
       "<Figure size 700x350 with 1 Axes>"
      ]
     },
     "metadata": {},
     "output_type": "display_data"
    },
    {
     "name": "stdout",
     "output_type": "stream",
     "text": [
      "None\n"
     ]
    }
   ],
   "source": [
    "# labelCol = 'IncomePerCap'\n",
    "# labels = ['Low', 'Low-Med','High-Med', 'High']\n",
    "# labels = ['Low', 'Med', 'High']\n",
    "# labels = ['Low', 'High']\n",
    "# df_discard, cut_bin = pd.qcut(x = og_df[labelCol], q = len(labels), labels = labels, retbins = True)\n",
    "# df_test, totalOutput, correctOutput, labelCol = runNaiveBayes(labelCol, cut_bin, labels) \n",
    "\n",
    "# df_test, totalOutput, correctOutput, labelCol = runNaiveBayes('Income', [0, 45000, math.inf], ['Low', 'High']) #85%\n",
    "df_test, totalOutput, correctOutput, labelCol = runNaiveBayes('IncomePerCap', [0, 25000, math.inf], ['Low', 'High']) \n",
    "# runNaiveBayes('Income', [0, 50000, math.inf], ['Low', 'High']) #81%\n",
    "# runNaiveBayes('Income', [0, 36000, 56000, math.inf], ['Low', 'Med', 'High']) #75%\n",
    "\n",
    "plotBayes(df_test, correctOutput, labelCol)"
   ]
  },
  {
   "cell_type": "code",
   "execution_count": 64,
   "id": "32f69ce1-b903-4004-83f4-cdc50e52e15e",
   "metadata": {},
   "outputs": [
    {
     "name": "stdout",
     "output_type": "stream",
     "text": [
      "Pruned & Binned\n",
      "\n",
      "Split & Shuffled\n",
      "\n",
      "Model Built\n",
      "\n"
     ]
    },
    {
     "data": {
      "text/plain": [
       "'High'"
      ]
     },
     "execution_count": 64,
     "metadata": {},
     "output_type": "execute_result"
    }
   ],
   "source": [
    "labelCol = 'IncomePerCap'\n",
    "bins = [0, 25000, math.inf]\n",
    "labels = ['Low', 'High']\n",
    "\n",
    "og_df = pd.read_csv('archive/acs2017_county_data.csv')\n",
    "\n",
    "df_binned = pruning_and_binning(og_df, bins, labels, labelCol)\n",
    "\n",
    "df_train, df_test = get_trainingSet_and_testSet(df_binned, 0.8)\n",
    "\n",
    "label_marg, label_cond = build_naive_bayes_model(df_train, labelCol)\n",
    "\n",
    "predictWithBayes(df_test.iloc[0], label_marg, label_cond, labelCol)"
   ]
  },
  {
   "cell_type": "code",
   "execution_count": 10,
   "id": "255b3fd2-7838-4d5a-a13d-58919ac85f49",
   "metadata": {},
   "outputs": [],
   "source": [
    "# for i in range(len(df_additions.columns)):\n",
    "#     print(df_additions.columns[i])\n",
    "#     plot = px.histogram(df_additions, x=df_additions.columns[i], title=df_additions.columns[i]).update_layout(yaxis_title='Count', xaxis_title=df_additions.columns[i])\n",
    "#     plot.show()"
   ]
  },
  {
   "cell_type": "code",
   "execution_count": null,
   "id": "3bf8b555-71f0-472c-b7ff-9932403b9b99",
   "metadata": {},
   "outputs": [],
   "source": []
  }
 ],
 "metadata": {
  "kernelspec": {
   "display_name": "Python 3 (ipykernel)",
   "language": "python",
   "name": "python3"
  },
  "language_info": {
   "codemirror_mode": {
    "name": "ipython",
    "version": 3
   },
   "file_extension": ".py",
   "mimetype": "text/x-python",
   "name": "python",
   "nbconvert_exporter": "python",
   "pygments_lexer": "ipython3",
   "version": "3.9.16"
  }
 },
 "nbformat": 4,
 "nbformat_minor": 5
}
